{
  "cells": [
    {
      "cell_type": "markdown",
      "metadata": {
        "id": "6_kRzGIITlPP"
      },
      "source": [
        "Practise example \n",
        "\n",
        "Topic - Array \n",
        "\n",
        "referrance guide - https://www.techinterviewhandbook.org/algorithms/array/#recommended-practice-questions"
      ]
    },
    {
      "cell_type": "markdown",
      "metadata": {
        "id": "nxtTyvwzT2Z0"
      },
      "source": [
        "Sliding window \\\\\n",
        "leetcode example - https://leetcode.com/problems/minimum-window-substring/solutions/26808/here-is-a-10-line-template-that-can-solve-most-substring-problems/"
      ]
    },
    {
      "cell_type": "code",
      "execution_count": 1,
      "metadata": {
        "id": "wJZYBsddTgvg"
      },
      "outputs": [],
      "source": [
        "import collections"
      ]
    },
    {
      "cell_type": "code",
      "execution_count": 2,
      "metadata": {
        "id": "if3UxeQrUDJ-"
      },
      "outputs": [],
      "source": [
        "s = \"ADOBECODEBANC\" # source string\n",
        "t = \"ABC\"     # target string"
      ]
    },
    {
      "cell_type": "code",
      "execution_count": 3,
      "metadata": {
        "id": "3rJYgnFdZCi_"
      },
      "outputs": [],
      "source": [
        "# break the function"
      ]
    },
    {
      "cell_type": "code",
      "execution_count": 4,
      "metadata": {
        "colab": {
          "base_uri": "https://localhost:8080/"
        },
        "id": "RGNJ8cxdZGmH",
        "outputId": "0395aac6-3c70-4cce-dcf0-9e96bd8d7e7a"
      },
      "outputs": [
        {
          "name": "stdout",
          "output_type": "stream",
          "text": [
            "can scan and find a substring\n"
          ]
        }
      ],
      "source": [
        "# check is the len of t is smaller then s, to subtring s\n",
        "if len(s)<len(t):\n",
        "  print(\"can't find substring in s as already smaller then t\")\n",
        "else:\n",
        "  print(\"can scan and find a substring\")"
      ]
    },
    {
      "cell_type": "code",
      "execution_count": 5,
      "metadata": {
        "id": "YPSSgU7-ZjvJ"
      },
      "outputs": [],
      "source": [
        "#initial default collection with default values\n",
        "needstr = collections.defaultdict(int)"
      ]
    },
    {
      "cell_type": "code",
      "execution_count": 6,
      "metadata": {
        "id": "qbcaJBtsZrqk"
      },
      "outputs": [],
      "source": [
        "# Iterate through the list\n",
        "# for keeping the count\n",
        "for ch in t:\n",
        "  needstr[ch] +=1"
      ]
    },
    {
      "cell_type": "code",
      "execution_count": 7,
      "metadata": {
        "colab": {
          "base_uri": "https://localhost:8080/"
        },
        "id": "sW1JOO_9Z3o4",
        "outputId": "6df5a332-2cc8-47f7-c15b-d5f2b63fefd6"
      },
      "outputs": [
        {
          "data": {
            "text/plain": [
              "defaultdict(int, {'A': 1, 'B': 1, 'C': 1})"
            ]
          },
          "execution_count": 7,
          "metadata": {},
          "output_type": "execute_result"
        }
      ],
      "source": [
        "needstr"
      ]
    },
    {
      "cell_type": "code",
      "execution_count": 8,
      "metadata": {
        "id": "LJxUf8q5ZrnL"
      },
      "outputs": [],
      "source": [
        "needcnt = len(t)"
      ]
    },
    {
      "cell_type": "code",
      "execution_count": 9,
      "metadata": {
        "id": "L12xj9vJZrX9"
      },
      "outputs": [],
      "source": [
        "# define set holding the start and end pointer\n",
        "res = (0,float('inf'))\n",
        "start = 0"
      ]
    },
    {
      "cell_type": "code",
      "execution_count": 10,
      "metadata": {
        "id": "fD0QZnvAdBL0"
      },
      "outputs": [],
      "source": [
        "temp = 0"
      ]
    },
    {
      "cell_type": "code",
      "execution_count": 11,
      "metadata": {
        "colab": {
          "base_uri": "https://localhost:8080/",
          "height": 381
        },
        "id": "_jvekXRXarsT",
        "outputId": "b472dfbb-5685-4769-ffec-465d4ddaffb0"
      },
      "outputs": [
        {
          "name": "stdout",
          "output_type": "stream",
          "text": [
            "0\n",
            "the alphabet does not exists\n",
            "1\n",
            "2\n",
            "3\n",
            "4\n",
            "5\n",
            "the alphabet does not exists\n",
            "6\n",
            "7\n",
            "8\n",
            "9\n",
            "the alphabet does not exists\n"
          ]
        }
      ],
      "source": [
        "for end , ch in enumerate(s):\n",
        "  if needstr[ch] >0:\n",
        "    needcnt -=1\n",
        "  needstr[ch] -=1\n",
        "\n",
        "  if needcnt ==0 :\n",
        "    while True:\n",
        "      temp = s[start]\n",
        "      print(start)\n",
        "      if needstr[temp]==0:\n",
        "        print(\"the alphabet does not exists\")\n",
        "        break\n",
        "      needstr[temp] += 1\n",
        "      start +=1\n",
        "    if end -start <res[0] - res[0]:\n",
        "      res=(start,end)\n",
        "    needstr[s[start]] +=1\n",
        "    needcnt +=1\n",
        "    start +=1\n",
        "\n",
        "\n"
      ]
    },
    {
      "cell_type": "code",
      "execution_count": 12,
      "metadata": {
        "colab": {
          "base_uri": "https://localhost:8080/"
        },
        "id": "XBTPRzrAbSAW",
        "outputId": "f1505399-2f6f-464e-8de1-f889bd8a979c"
      },
      "outputs": [],
      "source": [
        "# the start variable need to be reiniated for window each time"
      ]
    },
    {
      "cell_type": "code",
      "execution_count": 13,
      "metadata": {
        "id": "t_1NS4Q0eCkS"
      },
      "outputs": [],
      "source": [
        "# define function"
      ]
    },
    {
      "cell_type": "code",
      "execution_count": 14,
      "metadata": {
        "id": "hrwYb6KYeFnt"
      },
      "outputs": [],
      "source": [
        "class Solution:\n",
        "  def minWindow(self,s,t):\n",
        "    if len(s)<len(t):\n",
        "      return \"\"\n",
        "    needstr = collections.defaultdict(int)\n",
        "    for ch in t:\n",
        "      needstr[ch] +=1\n",
        "    needcnt = len(t)\n",
        "    res = (0, float(\"inf\"))\n",
        "    start = 0\n",
        "    for end, ch in enumerate(s):\n",
        "      if needstr[ch]>0:\n",
        "        needcnt -=1\n",
        "      needstr[ch] -=1\n",
        "      if needcnt ==0:\n",
        "        while True:\n",
        "          temp = s[start]\n",
        "          if needstr[temp] ==0:\n",
        "            break\n",
        "          needstr[temp] +=1\n",
        "          start +=1\n",
        "        if end -start <res[1] -res[0]:\n",
        "          res = (start,end)\n",
        "        needstr[s[start]] +=1\n",
        "        needcnt +=1\n",
        "        start +=1\n",
        "    return \"\" if res[1] > len(s) else s[res[0]:res[1]+1]"
      ]
    },
    {
      "cell_type": "code",
      "execution_count": 15,
      "metadata": {
        "id": "jFsv0hUgdwHr"
      },
      "outputs": [],
      "source": [
        "solve = Solution()"
      ]
    },
    {
      "cell_type": "code",
      "execution_count": 16,
      "metadata": {
        "colab": {
          "base_uri": "https://localhost:8080/",
          "height": 36
        },
        "id": "8wDsMzjMd0Iv",
        "outputId": "28b8fe4e-258d-4e47-86a8-bcdc2c0ad080"
      },
      "outputs": [
        {
          "data": {
            "text/plain": [
              "'BANC'"
            ]
          },
          "execution_count": 16,
          "metadata": {},
          "output_type": "execute_result"
        }
      ],
      "source": [
        "solve.minWindow(s,t)"
      ]
    },
    {
      "cell_type": "markdown",
      "metadata": {
        "id": "8vowlIPgmA6_"
      },
      "source": [
        "Longest Substring Without Repeating Characters - https://leetcode.com/problems/longest-substring-without-repeating-characters/description/"
      ]
    },
    {
      "cell_type": "code",
      "execution_count": 17,
      "metadata": {
        "id": "T74bkpGSd2lj"
      },
      "outputs": [],
      "source": [
        "import collections"
      ]
    },
    {
      "cell_type": "code",
      "execution_count": 18,
      "metadata": {
        "id": "9ymb-suhmknF"
      },
      "outputs": [],
      "source": [
        "s = \"pwwkew\""
      ]
    },
    {
      "cell_type": "code",
      "execution_count": 19,
      "metadata": {
        "colab": {
          "base_uri": "https://localhost:8080/"
        },
        "id": "TRJeSo9bmp9N",
        "outputId": "e626abfd-af92-4c47-f698-d383890beb29"
      },
      "outputs": [
        {
          "name": "stdout",
          "output_type": "stream",
          "text": [
            "string can be processed\n"
          ]
        }
      ],
      "source": [
        "# check if the srting is not empty\n",
        "if len(s) ==0:\n",
        "  print(\"empty string\")\n",
        "else:\n",
        "  print(\"string can be processed\")"
      ]
    },
    {
      "cell_type": "markdown",
      "metadata": {
        "id": "akLNrkS6nF4F"
      },
      "source": [
        "following the general sliding window execution block, new approach"
      ]
    },
    {
      "cell_type": "code",
      "execution_count": 20,
      "metadata": {
        "id": "HenotDsOnTl7"
      },
      "outputs": [],
      "source": [
        "n = len(s)\n",
        "max_len = 0\n",
        "charSet = set() # create a placefolder set\n",
        "left = 0 # left pointer"
      ]
    },
    {
      "cell_type": "code",
      "execution_count": 21,
      "metadata": {
        "id": "9MnZPjwqpVMk"
      },
      "outputs": [],
      "source": [
        "# scan the string\n",
        "for right in range(n):\n",
        "  if s[right] not in charSet:\n",
        "    charSet.add(s[right])\n",
        "    max_len = max(max_len, right - left+1)\n",
        "  else:\n",
        "    while s[right] in charSet:\n",
        "      charSet.remove(s[left])\n",
        "      left +=1\n",
        "    charSet.add(s[right])\n",
        "\n",
        "\n"
      ]
    },
    {
      "cell_type": "code",
      "execution_count": 22,
      "metadata": {
        "colab": {
          "base_uri": "https://localhost:8080/"
        },
        "id": "tgmwt6lvqBja",
        "outputId": "c0476a79-2ccc-40e1-fdef-20682e663b8f"
      },
      "outputs": [
        {
          "data": {
            "text/plain": [
              "3"
            ]
          },
          "execution_count": 22,
          "metadata": {},
          "output_type": "execute_result"
        }
      ],
      "source": [
        "max_len"
      ]
    },
    {
      "cell_type": "code",
      "execution_count": 23,
      "metadata": {
        "colab": {
          "base_uri": "https://localhost:8080/"
        },
        "id": "4nanueNHqDEO",
        "outputId": "0fe57465-e6c3-4379-ef91-45eeb725ea98"
      },
      "outputs": [
        {
          "data": {
            "text/plain": [
              "{'e', 'k', 'w'}"
            ]
          },
          "execution_count": 23,
          "metadata": {},
          "output_type": "execute_result"
        }
      ],
      "source": [
        "charSet"
      ]
    },
    {
      "cell_type": "code",
      "execution_count": 24,
      "metadata": {
        "id": "iiRHCxMmqEdB"
      },
      "outputs": [],
      "source": [
        "class Solution:\n",
        "    def lengthOfLongestSubstring(s):\n",
        "        n = len(s)\n",
        "        maxLength = 0\n",
        "        charSet = set()\n",
        "        left = 0\n",
        "\n",
        "        for right in range(n):\n",
        "            if s[right] not in charSet:\n",
        "                charSet.add(s[right])\n",
        "                maxLength = max(maxLength, right - left + 1)\n",
        "            else:\n",
        "                while s[right] in charSet:\n",
        "                    charSet.remove(s[left])\n",
        "                    left += 1\n",
        "                charSet.add(s[right])\n",
        "\n",
        "        return maxLength"
      ]
    },
    {
      "cell_type": "code",
      "execution_count": 25,
      "metadata": {
        "id": "c4G7IG_wrV_3"
      },
      "outputs": [],
      "source": [
        "solve = Solution()"
      ]
    },
    {
      "cell_type": "code",
      "execution_count": 26,
      "metadata": {
        "id": "I0TfBrUErYYR"
      },
      "outputs": [],
      "source": [
        "n = Solution.lengthOfLongestSubstring(s)"
      ]
    },
    {
      "cell_type": "code",
      "execution_count": 27,
      "metadata": {
        "colab": {
          "base_uri": "https://localhost:8080/"
        },
        "id": "wLHr9FvOrdyU",
        "outputId": "fc38dd89-f06c-4fb2-f863-0a827537157c"
      },
      "outputs": [
        {
          "data": {
            "text/plain": [
              "3"
            ]
          },
          "execution_count": 27,
          "metadata": {},
          "output_type": "execute_result"
        }
      ],
      "source": [
        "n"
      ]
    },
    {
      "cell_type": "code",
      "execution_count": null,
      "metadata": {
        "id": "8aZqGYnNrqK_"
      },
      "outputs": [],
      "source": []
    }
  ],
  "metadata": {
    "colab": {
      "provenance": []
    },
    "kernelspec": {
      "display_name": "Python 3",
      "name": "python3"
    },
    "language_info": {
      "codemirror_mode": {
        "name": "ipython",
        "version": 3
      },
      "file_extension": ".py",
      "mimetype": "text/x-python",
      "name": "python",
      "nbconvert_exporter": "python",
      "pygments_lexer": "ipython3",
      "version": "3.10.4"
    }
  },
  "nbformat": 4,
  "nbformat_minor": 0
}
