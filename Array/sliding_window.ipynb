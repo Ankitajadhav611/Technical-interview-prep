{
  "nbformat": 4,
  "nbformat_minor": 0,
  "metadata": {
    "colab": {
      "provenance": []
    },
    "kernelspec": {
      "name": "python3",
      "display_name": "Python 3"
    },
    "language_info": {
      "name": "python"
    }
  },
  "cells": [
    {
      "cell_type": "markdown",
      "source": [
        "Practise example \\\\\n",
        "\n",
        "Topic - Array \\\\\n",
        "\n",
        "referrance guide - https://www.techinterviewhandbook.org/algorithms/array/#recommended-practice-questions"
      ],
      "metadata": {
        "id": "6_kRzGIITlPP"
      }
    },
    {
      "cell_type": "markdown",
      "source": [
        "Sliding window \\\\\n",
        "leetcode example - https://leetcode.com/problems/minimum-window-substring/solutions/26808/here-is-a-10-line-template-that-can-solve-most-substring-problems/"
      ],
      "metadata": {
        "id": "nxtTyvwzT2Z0"
      }
    },
    {
      "cell_type": "code",
      "execution_count": 1,
      "metadata": {
        "id": "wJZYBsddTgvg"
      },
      "outputs": [],
      "source": [
        "import collections"
      ]
    },
    {
      "cell_type": "code",
      "source": [
        "s = \"ADOBECODEBANC\" # source string\n",
        "t = \"ABC\"     # target string"
      ],
      "metadata": {
        "id": "if3UxeQrUDJ-"
      },
      "execution_count": 2,
      "outputs": []
    },
    {
      "cell_type": "code",
      "source": [
        "# break the function"
      ],
      "metadata": {
        "id": "3rJYgnFdZCi_"
      },
      "execution_count": 3,
      "outputs": []
    },
    {
      "cell_type": "code",
      "source": [
        "# check is the len of t is smaller then s, to subtring s\n",
        "if len(s)<len(t):\n",
        "  print(\"can't find substring in s as already smaller then t\")\n",
        "else:\n",
        "  print(\"can scan and find a substring\")"
      ],
      "metadata": {
        "colab": {
          "base_uri": "https://localhost:8080/"
        },
        "id": "RGNJ8cxdZGmH",
        "outputId": "0395aac6-3c70-4cce-dcf0-9e96bd8d7e7a"
      },
      "execution_count": 4,
      "outputs": [
        {
          "output_type": "stream",
          "name": "stdout",
          "text": [
            "can scan and find a substring\n"
          ]
        }
      ]
    },
    {
      "cell_type": "code",
      "source": [
        "#initial default collection with default values\n",
        "needstr = collections.defaultdict(int)"
      ],
      "metadata": {
        "id": "YPSSgU7-ZjvJ"
      },
      "execution_count": 5,
      "outputs": []
    },
    {
      "cell_type": "code",
      "source": [
        "# Iterate through the list\n",
        "# for keeping the count\n",
        "for ch in t:\n",
        "  needstr[ch] +=1"
      ],
      "metadata": {
        "id": "qbcaJBtsZrqk"
      },
      "execution_count": 6,
      "outputs": []
    },
    {
      "cell_type": "code",
      "source": [
        "needstr"
      ],
      "metadata": {
        "colab": {
          "base_uri": "https://localhost:8080/"
        },
        "id": "sW1JOO_9Z3o4",
        "outputId": "6df5a332-2cc8-47f7-c15b-d5f2b63fefd6"
      },
      "execution_count": 7,
      "outputs": [
        {
          "output_type": "execute_result",
          "data": {
            "text/plain": [
              "defaultdict(int, {'A': 1, 'B': 1, 'C': 1})"
            ]
          },
          "metadata": {},
          "execution_count": 7
        }
      ]
    },
    {
      "cell_type": "code",
      "source": [
        "needcnt = len(t)"
      ],
      "metadata": {
        "id": "LJxUf8q5ZrnL"
      },
      "execution_count": 9,
      "outputs": []
    },
    {
      "cell_type": "code",
      "source": [
        "# define set holding the start and end pointer\n",
        "res = (0,float('inf'))\n",
        "start = 0"
      ],
      "metadata": {
        "id": "L12xj9vJZrX9"
      },
      "execution_count": 26,
      "outputs": []
    },
    {
      "cell_type": "code",
      "source": [
        "temp = 0"
      ],
      "metadata": {
        "id": "fD0QZnvAdBL0"
      },
      "execution_count": 27,
      "outputs": []
    },
    {
      "cell_type": "code",
      "source": [
        "for end , ch in enumerate(s):\n",
        "  if needstr[ch] >0:\n",
        "    needcnt -=1\n",
        "  needstr[ch] -=1\n",
        "\n",
        "  if needcnt ==0 :\n",
        "    while True:\n",
        "      temp = s[start]\n",
        "      print(start)\n",
        "      if needstr[temp]==0:\n",
        "        print(\"the alphabet does not exists\")\n",
        "        break\n",
        "      needstr[temp] += 1\n",
        "      start +=1\n",
        "    if end -start <res[0] - res[0]:\n",
        "      res=(start,end)\n",
        "    needstr[s[start]] +=1\n",
        "    needcnt +=1\n",
        "    start +=1\n",
        "\n",
        "\n"
      ],
      "metadata": {
        "colab": {
          "base_uri": "https://localhost:8080/",
          "height": 381
        },
        "id": "_jvekXRXarsT",
        "outputId": "b472dfbb-5685-4769-ffec-465d4ddaffb0"
      },
      "execution_count": 28,
      "outputs": [
        {
          "output_type": "stream",
          "name": "stdout",
          "text": [
            "the alphabet does not exists\n",
            "the alphabet does not exists\n",
            "the alphabet does not exists\n",
            "the alphabet does not exists\n",
            "the alphabet does not exists\n",
            "the alphabet does not exists\n",
            "the alphabet does not exists\n",
            "the alphabet does not exists\n",
            "the alphabet does not exists\n"
          ]
        },
        {
          "output_type": "error",
          "ename": "IndexError",
          "evalue": "string index out of range",
          "traceback": [
            "\u001b[0;31m---------------------------------------------------------------------------\u001b[0m",
            "\u001b[0;31mIndexError\u001b[0m                                Traceback (most recent call last)",
            "\u001b[0;32m<ipython-input-28-559bce20b44e>\u001b[0m in \u001b[0;36m<cell line: 1>\u001b[0;34m()\u001b[0m\n\u001b[1;32m      6\u001b[0m   \u001b[0;32mif\u001b[0m \u001b[0mneedcnt\u001b[0m \u001b[0;34m==\u001b[0m\u001b[0;36m0\u001b[0m \u001b[0;34m:\u001b[0m\u001b[0;34m\u001b[0m\u001b[0;34m\u001b[0m\u001b[0m\n\u001b[1;32m      7\u001b[0m     \u001b[0;32mwhile\u001b[0m \u001b[0;32mTrue\u001b[0m\u001b[0;34m:\u001b[0m\u001b[0;34m\u001b[0m\u001b[0;34m\u001b[0m\u001b[0m\n\u001b[0;32m----> 8\u001b[0;31m       \u001b[0mtemp\u001b[0m \u001b[0;34m=\u001b[0m \u001b[0ms\u001b[0m\u001b[0;34m[\u001b[0m\u001b[0mstart\u001b[0m\u001b[0;34m]\u001b[0m\u001b[0;34m\u001b[0m\u001b[0;34m\u001b[0m\u001b[0m\n\u001b[0m\u001b[1;32m      9\u001b[0m       \u001b[0;32mif\u001b[0m \u001b[0mneedstr\u001b[0m\u001b[0;34m[\u001b[0m\u001b[0mtemp\u001b[0m\u001b[0;34m]\u001b[0m\u001b[0;34m==\u001b[0m\u001b[0;36m0\u001b[0m\u001b[0;34m:\u001b[0m\u001b[0;34m\u001b[0m\u001b[0;34m\u001b[0m\u001b[0m\n\u001b[1;32m     10\u001b[0m         \u001b[0mprint\u001b[0m\u001b[0;34m(\u001b[0m\u001b[0;34m\"the alphabet does not exists\"\u001b[0m\u001b[0;34m)\u001b[0m\u001b[0;34m\u001b[0m\u001b[0;34m\u001b[0m\u001b[0m\n",
            "\u001b[0;31mIndexError\u001b[0m: string index out of range"
          ]
        }
      ]
    },
    {
      "cell_type": "code",
      "source": [
        "# the start variable need to be reiniated for window each time"
      ],
      "metadata": {
        "colab": {
          "base_uri": "https://localhost:8080/"
        },
        "id": "XBTPRzrAbSAW",
        "outputId": "f1505399-2f6f-464e-8de1-f889bd8a979c"
      },
      "execution_count": 13,
      "outputs": [
        {
          "output_type": "execute_result",
          "data": {
            "text/plain": [
              "defaultdict(int,\n",
              "            {'A': -1, 'B': -1, 'C': -1, 'D': -2, 'O': -2, 'E': -2, 'N': -1})"
            ]
          },
          "metadata": {},
          "execution_count": 13
        }
      ]
    },
    {
      "cell_type": "code",
      "source": [
        "# define function"
      ],
      "metadata": {
        "id": "t_1NS4Q0eCkS"
      },
      "execution_count": null,
      "outputs": []
    },
    {
      "cell_type": "code",
      "source": [
        "class Solution:\n",
        "  def minWindow(self,s,t):\n",
        "    if len(s)<len(t):\n",
        "      return \"\"\n",
        "    needstr = collections.defaultdict(int)\n",
        "    for ch in t:\n",
        "      needstr[ch] +=1\n",
        "    needcnt = len(t)\n",
        "    res = (0, float(\"inf\"))\n",
        "    start = 0\n",
        "    for end, ch in enumerate(s):\n",
        "      if needstr[ch]>0:\n",
        "        needcnt -=1\n",
        "      needstr[ch] -=1\n",
        "      if needcnt ==0:\n",
        "        while True:\n",
        "          temp = s[start]\n",
        "          if needstr[temp] ==0:\n",
        "            break\n",
        "          needstr[temp] +=1\n",
        "          start +=1\n",
        "        if end -start <res[1] -res[0]:\n",
        "          res = (start,end)\n",
        "        needstr[s[start]] +=1\n",
        "        needcnt +=1\n",
        "        start +=1\n",
        "    return \"\" if res[1] > len(s) else s[res[0]:res[1]+1]"
      ],
      "metadata": {
        "id": "hrwYb6KYeFnt"
      },
      "execution_count": 32,
      "outputs": []
    },
    {
      "cell_type": "code",
      "source": [
        "solve = Solution()"
      ],
      "metadata": {
        "id": "jFsv0hUgdwHr"
      },
      "execution_count": 33,
      "outputs": []
    },
    {
      "cell_type": "code",
      "source": [
        "solve.minWindow(s,t)"
      ],
      "metadata": {
        "colab": {
          "base_uri": "https://localhost:8080/",
          "height": 36
        },
        "id": "8wDsMzjMd0Iv",
        "outputId": "28b8fe4e-258d-4e47-86a8-bcdc2c0ad080"
      },
      "execution_count": 34,
      "outputs": [
        {
          "output_type": "execute_result",
          "data": {
            "text/plain": [
              "'BANC'"
            ],
            "application/vnd.google.colaboratory.intrinsic+json": {
              "type": "string"
            }
          },
          "metadata": {},
          "execution_count": 34
        }
      ]
    },
    {
      "cell_type": "markdown",
      "source": [
        "Longest Substring Without Repeating Characters - https://leetcode.com/problems/longest-substring-without-repeating-characters/description/"
      ],
      "metadata": {
        "id": "8vowlIPgmA6_"
      }
    },
    {
      "cell_type": "code",
      "source": [
        "import collections"
      ],
      "metadata": {
        "id": "T74bkpGSd2lj"
      },
      "execution_count": 35,
      "outputs": []
    },
    {
      "cell_type": "code",
      "source": [
        "s = \"pwwkew\""
      ],
      "metadata": {
        "id": "9ymb-suhmknF"
      },
      "execution_count": 61,
      "outputs": []
    },
    {
      "cell_type": "code",
      "source": [
        "# check if the srting is not empty\n",
        "if len(s) ==0:\n",
        "  print(\"empty string\")\n",
        "else:\n",
        "  print(\"string can be processed\")"
      ],
      "metadata": {
        "colab": {
          "base_uri": "https://localhost:8080/"
        },
        "id": "TRJeSo9bmp9N",
        "outputId": "e626abfd-af92-4c47-f698-d383890beb29"
      },
      "execution_count": 62,
      "outputs": [
        {
          "output_type": "stream",
          "name": "stdout",
          "text": [
            "string can be processed\n"
          ]
        }
      ]
    },
    {
      "cell_type": "markdown",
      "source": [
        "following the general sliding window execution block, new approach"
      ],
      "metadata": {
        "id": "akLNrkS6nF4F"
      }
    },
    {
      "cell_type": "code",
      "source": [
        "n = len(s)\n",
        "max_len = 0\n",
        "charSet = set() # create a placefolder set\n",
        "left = 0 # left pointer"
      ],
      "metadata": {
        "id": "HenotDsOnTl7"
      },
      "execution_count": 63,
      "outputs": []
    },
    {
      "cell_type": "code",
      "source": [
        "# scan the string\n",
        "for right in range(n):\n",
        "  if s[right] not in charSet:\n",
        "    charSet.add(s[right])\n",
        "    max_len = max(max_len, right - left+1)\n",
        "  else:\n",
        "    while s[right] in charSet:\n",
        "      charSet.remove(s[left])\n",
        "      left +=1\n",
        "    charSet.add(s[right])\n",
        "\n",
        "\n"
      ],
      "metadata": {
        "id": "9MnZPjwqpVMk"
      },
      "execution_count": 64,
      "outputs": []
    },
    {
      "cell_type": "code",
      "source": [
        "max_len"
      ],
      "metadata": {
        "colab": {
          "base_uri": "https://localhost:8080/"
        },
        "id": "tgmwt6lvqBja",
        "outputId": "c0476a79-2ccc-40e1-fdef-20682e663b8f"
      },
      "execution_count": 65,
      "outputs": [
        {
          "output_type": "execute_result",
          "data": {
            "text/plain": [
              "3"
            ]
          },
          "metadata": {},
          "execution_count": 65
        }
      ]
    },
    {
      "cell_type": "code",
      "source": [
        "charSet"
      ],
      "metadata": {
        "colab": {
          "base_uri": "https://localhost:8080/"
        },
        "id": "4nanueNHqDEO",
        "outputId": "0fe57465-e6c3-4379-ef91-45eeb725ea98"
      },
      "execution_count": 49,
      "outputs": [
        {
          "output_type": "execute_result",
          "data": {
            "text/plain": [
              "{'e', 'k', 'p', 'w'}"
            ]
          },
          "metadata": {},
          "execution_count": 49
        }
      ]
    },
    {
      "cell_type": "code",
      "source": [
        "class Solution:\n",
        "    def lengthOfLongestSubstring(s):\n",
        "        n = len(s)\n",
        "        maxLength = 0\n",
        "        charSet = set()\n",
        "        left = 0\n",
        "\n",
        "        for right in range(n):\n",
        "            if s[right] not in charSet:\n",
        "                charSet.add(s[right])\n",
        "                maxLength = max(maxLength, right - left + 1)\n",
        "            else:\n",
        "                while s[right] in charSet:\n",
        "                    charSet.remove(s[left])\n",
        "                    left += 1\n",
        "                charSet.add(s[right])\n",
        "\n",
        "        return maxLength"
      ],
      "metadata": {
        "id": "iiRHCxMmqEdB"
      },
      "execution_count": 56,
      "outputs": []
    },
    {
      "cell_type": "code",
      "source": [
        "solve = Solution()"
      ],
      "metadata": {
        "id": "c4G7IG_wrV_3"
      },
      "execution_count": 57,
      "outputs": []
    },
    {
      "cell_type": "code",
      "source": [
        "n = Solution.lengthOfLongestSubstring(s)"
      ],
      "metadata": {
        "id": "I0TfBrUErYYR"
      },
      "execution_count": 58,
      "outputs": []
    },
    {
      "cell_type": "code",
      "source": [
        "n"
      ],
      "metadata": {
        "colab": {
          "base_uri": "https://localhost:8080/"
        },
        "id": "wLHr9FvOrdyU",
        "outputId": "fc38dd89-f06c-4fb2-f863-0a827537157c"
      },
      "execution_count": 59,
      "outputs": [
        {
          "output_type": "execute_result",
          "data": {
            "text/plain": [
              "3"
            ]
          },
          "metadata": {},
          "execution_count": 59
        }
      ]
    },
    {
      "cell_type": "code",
      "source": [],
      "metadata": {
        "id": "8aZqGYnNrqK_"
      },
      "execution_count": null,
      "outputs": []
    }
  ]
}