{
  "nbformat": 4,
  "nbformat_minor": 0,
  "metadata": {
    "colab": {
      "provenance": []
    },
    "kernelspec": {
      "name": "python3",
      "display_name": "Python 3"
    },
    "language_info": {
      "name": "python"
    }
  },
  "cells": [
    {
      "cell_type": "markdown",
      "source": [
        "Maximum Number of Balloons: https://leetcode.com/problems/maximum-number-of-balloons/description/"
      ],
      "metadata": {
        "id": "ynER3eQjtIEx"
      }
    },
    {
      "cell_type": "code",
      "execution_count": 1,
      "metadata": {
        "id": "-hLqSOt1r7om"
      },
      "outputs": [],
      "source": [
        "from collections import defaultdict, Counter"
      ]
    },
    {
      "cell_type": "code",
      "source": [
        "# Create counter for balloons\n",
        "balloon_counter = Counter(\"balloon\")"
      ],
      "metadata": {
        "id": "MB9tSm5GtQTP"
      },
      "execution_count": 11,
      "outputs": []
    },
    {
      "cell_type": "code",
      "source": [
        "balloon_counter"
      ],
      "metadata": {
        "colab": {
          "base_uri": "https://localhost:8080/"
        },
        "id": "NYB5NE4ote-a",
        "outputId": "0eda4836-5bf5-4dab-a67a-63cdbe604ba8"
      },
      "execution_count": 3,
      "outputs": [
        {
          "output_type": "execute_result",
          "data": {
            "text/plain": [
              "Counter({'b': 1, 'a': 1, 'l': 2, 'o': 2, 'n': 1})"
            ]
          },
          "metadata": {},
          "execution_count": 3
        }
      ]
    },
    {
      "cell_type": "code",
      "source": [
        "text= Counter(\"loonbalxballpoon\")\n",
        "text"
      ],
      "metadata": {
        "colab": {
          "base_uri": "https://localhost:8080/"
        },
        "id": "AEonh7oCtbOY",
        "outputId": "f6cf839e-b8fb-49ed-ac4d-ecbbc86c7001"
      },
      "execution_count": 12,
      "outputs": [
        {
          "output_type": "execute_result",
          "data": {
            "text/plain": [
              "Counter({'l': 4, 'o': 4, 'n': 2, 'b': 2, 'a': 2, 'x': 1, 'p': 1})"
            ]
          },
          "metadata": {},
          "execution_count": 12
        }
      ]
    },
    {
      "cell_type": "code",
      "source": [
        "result = 0\n",
        "while (balloon_counter & text) == balloon_counter:\n",
        "      result += 1\n",
        "      text = text - balloon_counter"
      ],
      "metadata": {
        "id": "cI9EfgdUtgtq"
      },
      "execution_count": 8,
      "outputs": []
    },
    {
      "cell_type": "code",
      "source": [
        "result"
      ],
      "metadata": {
        "colab": {
          "base_uri": "https://localhost:8080/"
        },
        "id": "lldteEOntt1j",
        "outputId": "a288d260-f04f-4874-e353-ccb512500700"
      },
      "execution_count": 9,
      "outputs": [
        {
          "output_type": "execute_result",
          "data": {
            "text/plain": [
              "2"
            ]
          },
          "metadata": {},
          "execution_count": 9
        }
      ]
    },
    {
      "cell_type": "code",
      "source": [
        "balloon_counter & text"
      ],
      "metadata": {
        "colab": {
          "base_uri": "https://localhost:8080/"
        },
        "id": "oV-hsoD-uCi0",
        "outputId": "76c2422e-adc2-4ae7-8ffe-1943c78dc9a6"
      },
      "execution_count": 13,
      "outputs": [
        {
          "output_type": "execute_result",
          "data": {
            "text/plain": [
              "Counter({'b': 1, 'a': 1, 'l': 2, 'o': 2, 'n': 1})"
            ]
          },
          "metadata": {},
          "execution_count": 13
        }
      ]
    },
    {
      "cell_type": "code",
      "source": [
        "text = text - balloon_counter"
      ],
      "metadata": {
        "id": "9tokNlyXuHms"
      },
      "execution_count": 14,
      "outputs": []
    },
    {
      "cell_type": "code",
      "source": [
        "text"
      ],
      "metadata": {
        "colab": {
          "base_uri": "https://localhost:8080/"
        },
        "id": "qTHK5pRTuR2M",
        "outputId": "e3671348-f77b-4659-89af-027b75237453"
      },
      "execution_count": 15,
      "outputs": [
        {
          "output_type": "execute_result",
          "data": {
            "text/plain": [
              "Counter({'l': 2, 'o': 2, 'n': 1, 'b': 1, 'a': 1, 'x': 1, 'p': 1})"
            ]
          },
          "metadata": {},
          "execution_count": 15
        }
      ]
    },
    {
      "cell_type": "markdown",
      "source": [
        "proper function"
      ],
      "metadata": {
        "id": "zMBwO9RUubqY"
      }
    },
    {
      "cell_type": "code",
      "source": [
        "class Solution:\n",
        "  def maxNumberOfBalloons(self,text):\n",
        "    balloon_counter = Counter(\"balloon\")\n",
        "    text_counter = Counter(text)\n",
        "    result = 0\n",
        "    while (balloon_counter & text_counter) == balloon_counter:\n",
        "      result +=1\n",
        "      text_counter = text_counter - balloon_counter\n",
        "    return result"
      ],
      "metadata": {
        "id": "FDAVCQ-ZuTba"
      },
      "execution_count": 18,
      "outputs": []
    },
    {
      "cell_type": "code",
      "source": [
        "val = Solution()"
      ],
      "metadata": {
        "id": "nJqR1YwRvk3P"
      },
      "execution_count": 21,
      "outputs": []
    },
    {
      "cell_type": "code",
      "source": [
        "output = val.maxNumberOfBalloons(\"ballon\")"
      ],
      "metadata": {
        "id": "7XYtr61wvMiq"
      },
      "execution_count": 22,
      "outputs": []
    },
    {
      "cell_type": "code",
      "source": [
        "output"
      ],
      "metadata": {
        "colab": {
          "base_uri": "https://localhost:8080/"
        },
        "id": "7qdzH598vfeg",
        "outputId": "6b1eea97-11b8-4b56-9083-bec9ffe99a34"
      },
      "execution_count": 23,
      "outputs": [
        {
          "output_type": "execute_result",
          "data": {
            "text/plain": [
              "0"
            ]
          },
          "metadata": {},
          "execution_count": 23
        }
      ]
    },
    {
      "cell_type": "markdown",
      "source": [
        "Valid Sudoku : https://leetcode.com/problems/valid-sudoku/description/"
      ],
      "metadata": {
        "id": "7VZl3oOnxzXY"
      }
    },
    {
      "cell_type": "code",
      "source": [
        "input =  [[\"8\",\"3\",\".\",\".\",\"7\",\".\",\".\",\".\",\".\"],[\"6\",\".\",\".\",\"1\",\"9\",\"5\",\".\",\".\",\".\"],[\".\",\"9\",\"8\",\".\",\".\",\".\",\".\",\"6\",\".\"],[\"8\",\".\",\".\",\".\",\"6\",\".\",\".\",\".\",\"3\"],[\"4\",\".\",\".\",\"8\",\".\",\"3\",\".\",\".\",\"1\"],[\"7\",\".\",\".\",\".\",\"2\",\".\",\".\",\".\",\"6\"],[\".\",\"6\",\".\",\".\",\".\",\".\",\"2\",\"8\",\".\"],[\".\",\".\",\".\",\"4\",\"1\",\"9\",\".\",\".\",\"5\"],[\".\",\".\",\".\",\".\",\"8\",\".\",\".\",\"7\",\"9\"]]"
      ],
      "metadata": {
        "id": "b3fJPJKyvqQ3"
      },
      "execution_count": 30,
      "outputs": []
    },
    {
      "cell_type": "code",
      "source": [
        "rows =[set() for _ in range(9)]"
      ],
      "metadata": {
        "id": "IPTSgSCXyFhV"
      },
      "execution_count": 31,
      "outputs": []
    },
    {
      "cell_type": "code",
      "source": [
        "rows"
      ],
      "metadata": {
        "colab": {
          "base_uri": "https://localhost:8080/"
        },
        "id": "C6_6vm_vyO_X",
        "outputId": "4582f4e7-48b5-420e-f0f5-a0b007e8e4ec"
      },
      "execution_count": 32,
      "outputs": [
        {
          "output_type": "execute_result",
          "data": {
            "text/plain": [
              "[set(), set(), set(), set(), set(), set(), set(), set(), set()]"
            ]
          },
          "metadata": {},
          "execution_count": 32
        }
      ]
    },
    {
      "cell_type": "code",
      "source": [
        "cols = [set() for _ in range(9)]\n",
        "boxes = [set() for _ in range(9)]"
      ],
      "metadata": {
        "id": "tSCLDeyYyQyL"
      },
      "execution_count": 33,
      "outputs": []
    },
    {
      "cell_type": "code",
      "source": [
        "for r in range(9):\n",
        "  for c in range(9):\n",
        "    if input[r][c]!=\".\":\n",
        "      num = input[r][c]\n",
        "      box_index = (r // 3) * 3 + (c // 3)  # points to box\n",
        "      if num in rows[r] or num in cols[c] or num in boxes[box_index]:\n",
        "         print(\"False\")\n",
        "      rows[r].add(num)\n",
        "      cols[c].add(num)\n",
        "      boxes[box_index].add(num)\n",
        "\n"
      ],
      "metadata": {
        "colab": {
          "base_uri": "https://localhost:8080/"
        },
        "id": "2-rkhVaKyf49",
        "outputId": "e68d1fd4-4384-4dac-9905-4acb662e0c7a"
      },
      "execution_count": 34,
      "outputs": [
        {
          "output_type": "stream",
          "name": "stdout",
          "text": [
            "False\n",
            "False\n"
          ]
        }
      ]
    },
    {
      "cell_type": "code",
      "source": [
        "boxes"
      ],
      "metadata": {
        "colab": {
          "base_uri": "https://localhost:8080/"
        },
        "id": "WQEuaE6M0UGK",
        "outputId": "d9d371b1-636f-41f4-ab1f-5f81bd8c3a43"
      },
      "execution_count": 35,
      "outputs": [
        {
          "output_type": "execute_result",
          "data": {
            "text/plain": [
              "[{'3', '6', '8', '9'},\n",
              " {'1', '5', '7', '9'},\n",
              " {'6'},\n",
              " {'4', '7', '8'},\n",
              " {'2', '3', '6', '8'},\n",
              " {'1', '3', '6'},\n",
              " {'6'},\n",
              " {'1', '4', '8', '9'},\n",
              " {'2', '5', '7', '8', '9'}]"
            ]
          },
          "metadata": {},
          "execution_count": 35
        }
      ]
    },
    {
      "cell_type": "markdown",
      "source": [
        "function"
      ],
      "metadata": {
        "id": "9ccrdxGi0bt5"
      }
    },
    {
      "cell_type": "code",
      "source": [
        "class Solution:\n",
        "  def isValidSudoku(self,board):\n",
        "    #generate list of set\n",
        "    rows = [set() for _ in range(9)]\n",
        "    cols = [set() for _ in range(9)]\n",
        "    boxes = [set() for _ in range(9)]\n",
        "\n",
        "    for r in range(9):\n",
        "      for c in range(9):\n",
        "        if board[r][c]!=\".\":\n",
        "          num = board[r][c]\n",
        "        box_index = (r//3) *3 + c//3\n",
        "        if num in rows[r] or num in cols[c] or num in boxes[box_index]:\n",
        "          return False\n",
        "        rows[r].add(num)\n",
        "        cols[c].add(num)\n",
        "        boxes[box_index].add(num)\n",
        "    return True"
      ],
      "metadata": {
        "id": "Bj7zn4L40Vtn"
      },
      "execution_count": 36,
      "outputs": []
    },
    {
      "cell_type": "markdown",
      "source": [
        "Group Anagrams: https://leetcode.com/problems/group-anagrams/description/"
      ],
      "metadata": {
        "id": "EpbpdI824Olv"
      }
    },
    {
      "cell_type": "code",
      "source": [
        "input = [\"eat\",\"tea\",\"tan\",\"ate\",\"nat\",\"bat\"]"
      ],
      "metadata": {
        "id": "jJMGZmPq4zmq"
      },
      "execution_count": 37,
      "outputs": []
    },
    {
      "cell_type": "code",
      "source": [
        "from collections import defaultdict\n",
        "anagram_dict = defaultdict(list)\n",
        "for str in input:\n",
        "  count =[0] *26\n",
        "  for s in str:\n",
        "    count[ord(s) - ord(\"a\")] +=1\n",
        "  key = tuple(count)\n",
        "  anagram_dict[key].append(str)\n",
        "\n",
        "\n",
        "\n"
      ],
      "metadata": {
        "id": "Hn1bWlxE1X9m"
      },
      "execution_count": 38,
      "outputs": []
    },
    {
      "cell_type": "code",
      "source": [
        "anagram_dict.values()"
      ],
      "metadata": {
        "colab": {
          "base_uri": "https://localhost:8080/"
        },
        "id": "55_vwCkD5lFy",
        "outputId": "b9519629-f00f-43c7-96c4-6f87b509be0a"
      },
      "execution_count": 39,
      "outputs": [
        {
          "output_type": "execute_result",
          "data": {
            "text/plain": [
              "dict_values([['eat', 'tea', 'ate'], ['tan', 'nat'], ['bat']])"
            ]
          },
          "metadata": {},
          "execution_count": 39
        }
      ]
    },
    {
      "cell_type": "markdown",
      "source": [
        "function"
      ],
      "metadata": {
        "id": "tXyhZcID5ppd"
      }
    },
    {
      "cell_type": "code",
      "source": [
        "class Solution:\n",
        "  def groupAnagrams(self, input):\n",
        "    anagram_dict = defaultdict(list)\n",
        "    for str in input:\n",
        "      count =[0] *26\n",
        "      for s in str:\n",
        "        count[ord(s) - ord(\"a\")] +=1\n",
        "      key = tuple(count)\n",
        "      anagram_dict[key].append(str)\n",
        "    return anagram_dict.values()\n",
        "\n"
      ],
      "metadata": {
        "id": "GXNrSGB45nZb"
      },
      "execution_count": 40,
      "outputs": []
    },
    {
      "cell_type": "markdown",
      "source": [
        "majority element : https://leetcode.com/problems/majority-element/description/"
      ],
      "metadata": {
        "id": "TztuAPxB9tiv"
      }
    },
    {
      "cell_type": "code",
      "source": [
        "nums = [2,2,1,1,1,2,2]"
      ],
      "metadata": {
        "id": "OxOYofQt6DQx"
      },
      "execution_count": 41,
      "outputs": []
    },
    {
      "cell_type": "code",
      "source": [
        "nums.sort()\n",
        "n = len(nums)\n",
        "element = nums[n//2]"
      ],
      "metadata": {
        "id": "Afto4dxy90HQ"
      },
      "execution_count": 42,
      "outputs": []
    },
    {
      "cell_type": "code",
      "source": [
        "element   # at the problem states the majority element is taking more then half of the number of element"
      ],
      "metadata": {
        "colab": {
          "base_uri": "https://localhost:8080/"
        },
        "id": "fCjv-pGO987_",
        "outputId": "3ea92b11-659f-47b4-c076-84f3cc7f2444"
      },
      "execution_count": 44,
      "outputs": [
        {
          "output_type": "execute_result",
          "data": {
            "text/plain": [
              "2"
            ]
          },
          "metadata": {},
          "execution_count": 44
        }
      ]
    },
    {
      "cell_type": "code",
      "source": [
        "# another method\n",
        "ans = -1\n",
        "count = 0\n",
        "for num in nums:\n",
        "  if count ==0:\n",
        "    ans= num\n",
        "  if ans == num:\n",
        "    count +=1\n",
        "  else:\n",
        "    count -=1\n"
      ],
      "metadata": {
        "id": "l4GiAdmj9-LW"
      },
      "execution_count": 45,
      "outputs": []
    },
    {
      "cell_type": "code",
      "source": [
        "ans"
      ],
      "metadata": {
        "colab": {
          "base_uri": "https://localhost:8080/"
        },
        "id": "Q3dlf8kgBeC2",
        "outputId": "60e06bb3-ab6c-4ba8-fbec-b60f5a645270"
      },
      "execution_count": 46,
      "outputs": [
        {
          "output_type": "execute_result",
          "data": {
            "text/plain": [
              "2"
            ]
          },
          "metadata": {},
          "execution_count": 46
        }
      ]
    },
    {
      "cell_type": "markdown",
      "source": [
        "function"
      ],
      "metadata": {
        "id": "yZ8FbruhBgJo"
      }
    },
    {
      "cell_type": "code",
      "source": [
        "class Solution:\n",
        "  def majorityElement(nums):\n",
        "    ans = -1\n",
        "    count = 0\n",
        "    for num in nums:\n",
        "      if count ==0:\n",
        "        ans= num\n",
        "      if ans == num:\n",
        "        count +=1\n",
        "      else:\n",
        "        count -=1\n",
        "    return ans\n"
      ],
      "metadata": {
        "id": "wmPEz_CBBepl"
      },
      "execution_count": 47,
      "outputs": []
    },
    {
      "cell_type": "markdown",
      "source": [
        "Longest Consecutive Sequence : https://leetcode.com/problems/longest-consecutive-sequence/description/"
      ],
      "metadata": {
        "id": "60XptgjuKsS2"
      }
    },
    {
      "cell_type": "code",
      "source": [
        "nums = [100,4,200,1,3,2]"
      ],
      "metadata": {
        "id": "OEP7wPuiKrwl"
      },
      "execution_count": 53,
      "outputs": []
    },
    {
      "cell_type": "code",
      "source": [
        "nums = [0,3,7,2,5,8,4,6,0,1]"
      ],
      "metadata": {
        "id": "W6Y8iogSLG6n"
      },
      "execution_count": 59,
      "outputs": []
    },
    {
      "cell_type": "code",
      "source": [
        "s = set(nums)"
      ],
      "metadata": {
        "id": "mCP3lxiMLBNO"
      },
      "execution_count": 60,
      "outputs": []
    },
    {
      "cell_type": "code",
      "source": [
        "s"
      ],
      "metadata": {
        "colab": {
          "base_uri": "https://localhost:8080/"
        },
        "id": "jKitYfs5LLFZ",
        "outputId": "2704a230-ce15-4507-9b23-6f6d54a87a25"
      },
      "execution_count": 61,
      "outputs": [
        {
          "output_type": "execute_result",
          "data": {
            "text/plain": [
              "{0, 1, 2, 3, 4, 5, 6, 7, 8}"
            ]
          },
          "metadata": {},
          "execution_count": 61
        }
      ]
    },
    {
      "cell_type": "code",
      "source": [
        "longest = 0\n",
        "for num in s:\n",
        "  if num -1 not in s:\n",
        "    next_num = num +1\n",
        "    count =1\n",
        "    while next_num in s:\n",
        "      count +=1\n",
        "      next_num +=1\n",
        "    longest = max(longest,count)"
      ],
      "metadata": {
        "id": "HG4Dkz9TLLoD"
      },
      "execution_count": 62,
      "outputs": []
    },
    {
      "cell_type": "code",
      "source": [
        "longest"
      ],
      "metadata": {
        "colab": {
          "base_uri": "https://localhost:8080/"
        },
        "id": "PVSiR4tmLxkK",
        "outputId": "eefda1c0-17aa-46c3-d4ae-6e657e87c2cd"
      },
      "execution_count": 63,
      "outputs": [
        {
          "output_type": "execute_result",
          "data": {
            "text/plain": [
              "9"
            ]
          },
          "metadata": {},
          "execution_count": 63
        }
      ]
    },
    {
      "cell_type": "code",
      "source": [],
      "metadata": {
        "id": "_4A4Whf9L1oS"
      },
      "execution_count": null,
      "outputs": []
    }
  ]
}