{
 "cells": [
  {
   "cell_type": "code",
   "execution_count": 2,
   "id": "febd307d-0039-40d4-b0fe-1a19ffe2465a",
   "metadata": {},
   "outputs": [],
   "source": [
    "# example for a sorted array \n",
    "A = [-3, -1, 0, 1, 4, 7]"
   ]
  },
  {
   "cell_type": "code",
   "execution_count": 3,
   "id": "ce8173aa-3b10-4b69-839e-89dd3a2a2b59",
   "metadata": {},
   "outputs": [],
   "source": [
    "# Traditional Binary Search - Looking up if number is in array:\n",
    "# Time: O(log n)\n",
    "# Space: O(1)\n",
    "\n",
    "def binary_search(arr,target):\n",
    "    N = len(arr)\n",
    "    L =0 \n",
    "    R = N-1\n",
    "\n",
    "    while L<=R:\n",
    "        M = L + ((R-L)//2)\n",
    "\n",
    "        if arr[M] == target:\n",
    "            return True\n",
    "        elif target < arr[M]:\n",
    "            R =M-1\n",
    "        else:\n",
    "            L = M+1\n",
    "    return False"
   ]
  },
  {
   "cell_type": "code",
   "execution_count": 5,
   "id": "b54aabe5-ae18-4f79-882d-5d9f6f74e892",
   "metadata": {},
   "outputs": [
    {
     "data": {
      "text/plain": [
       "True"
      ]
     },
     "execution_count": 5,
     "metadata": {},
     "output_type": "execute_result"
    }
   ],
   "source": [
    "binary_search(A, 4)"
   ]
  },
  {
   "cell_type": "code",
   "execution_count": 6,
   "id": "937a5517-6859-4557-bb19-b823174601c1",
   "metadata": {},
   "outputs": [],
   "source": [
    "# condition based\n",
    "B = [False, False, False, False, True, True, True]\n",
    "\n",
    "def binary_search_condition(arr):\n",
    "    N = len(arr)\n",
    "    L = 0\n",
    "    R = N -1\n",
    "\n",
    "    while L <R:\n",
    "        M = (L+R)//2\n",
    "\n",
    "        if B[M]:\n",
    "            R= M \n",
    "        else:\n",
    "            L = M +1\n",
    "    return L"
   ]
  },
  {
   "cell_type": "code",
   "execution_count": 7,
   "id": "a93ff062-c2b2-4b17-a4ec-0bacdd275d2f",
   "metadata": {},
   "outputs": [
    {
     "data": {
      "text/plain": [
       "4"
      ]
     },
     "execution_count": 7,
     "metadata": {},
     "output_type": "execute_result"
    }
   ],
   "source": [
    "binary_search_condition(B)"
   ]
  },
  {
   "cell_type": "code",
   "execution_count": null,
   "id": "7f40fa9e-0aed-4337-9995-d74fa87c7e7d",
   "metadata": {},
   "outputs": [],
   "source": []
  }
 ],
 "metadata": {
  "kernelspec": {
   "display_name": "Python 3 (ipykernel)",
   "language": "python",
   "name": "python3"
  },
  "language_info": {
   "codemirror_mode": {
    "name": "ipython",
    "version": 3
   },
   "file_extension": ".py",
   "mimetype": "text/x-python",
   "name": "python",
   "nbconvert_exporter": "python",
   "pygments_lexer": "ipython3",
   "version": "3.12.4"
  }
 },
 "nbformat": 4,
 "nbformat_minor": 5
}
