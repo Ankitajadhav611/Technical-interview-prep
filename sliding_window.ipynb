{
 "cells": [
  {
   "cell_type": "markdown",
   "id": "12e9274a-8924-4e3c-9a9d-89192a70cf03",
   "metadata": {},
   "source": [
    "To find the maximum sum of all subarrays of size K"
   ]
  },
  {
   "cell_type": "code",
   "execution_count": 20,
   "id": "73ce77a5-aa3c-4672-9b10-c958d7c34cdf",
   "metadata": {},
   "outputs": [],
   "source": [
    "arr = [5, 2, -1, 0, 3]\n",
    "k = 3"
   ]
  },
  {
   "cell_type": "code",
   "execution_count": 21,
   "id": "62ff0124-5aca-4a18-88e6-54d5d628622d",
   "metadata": {},
   "outputs": [],
   "source": [
    "left = 0\n",
    "rig = left +k -1\n"
   ]
  },
  {
   "cell_type": "code",
   "execution_count": 22,
   "id": "ca50b218-a789-4658-a0c3-3772cbeb82d2",
   "metadata": {},
   "outputs": [],
   "source": [
    "def maxSum(arr,k):\n",
    "    n = len(arr)\n",
    "    if n <k:\n",
    "        print(\"invalid\")\n",
    "        return -1\n",
    "\n",
    "    sum_value = sum(arr[:k])\n",
    "\n",
    "    max_window = sum_value\n",
    "\n",
    "    for i in range(n-k):\n",
    "        sum_value = sum_value - arr[i] + arr[i+k]\n",
    "        max_window = max(sum_value,max_window)\n",
    "\n",
    "    return max_window"
   ]
  },
  {
   "cell_type": "code",
   "execution_count": 23,
   "id": "f39bc8ac-c4fa-4814-8a47-9222d603ae76",
   "metadata": {},
   "outputs": [],
   "source": [
    "value = maxSum(arr,k)"
   ]
  },
  {
   "cell_type": "code",
   "execution_count": 24,
   "id": "c979b7ef-297e-4ab5-a478-42d3836c71eb",
   "metadata": {},
   "outputs": [
    {
     "data": {
      "text/plain": [
       "6"
      ]
     },
     "execution_count": 24,
     "metadata": {},
     "output_type": "execute_result"
    }
   ],
   "source": [
    "value"
   ]
  },
  {
   "cell_type": "markdown",
   "id": "8f15cdbf-f0d7-4e68-b6a5-36530198ff94",
   "metadata": {},
   "source": [
    "Find the maximum consequetive onese : https://leetcode.com/problems/max-consecutive-ones-iii/description/"
   ]
  },
  {
   "cell_type": "code",
   "execution_count": 98,
   "id": "0353c91d-76cb-4d75-afd6-b36a1fa39139",
   "metadata": {},
   "outputs": [],
   "source": [
    "nums = [0,0,1,1,0,0,1,1,1,0,1,1,0,0,0,1,1,1,1]\n",
    "k = 3"
   ]
  },
  {
   "cell_type": "code",
   "execution_count": 105,
   "id": "7a166baf-1d4a-4ade-be58-83a0cbe59c5f",
   "metadata": {},
   "outputs": [],
   "source": [
    "left = 0\n",
    "right = 0\n",
    "zero_count = 0\n",
    "size_substring = 0\n",
    "while right<len(nums):\n",
    "    if nums[right]==0:\n",
    "        zero_count+=1\n",
    "    while zero_count>k:\n",
    "        if nums[left]==0:\n",
    "            zero_count -=1\n",
    "        left +=1\n",
    "    right +=1\n",
    "    size_substring = max(size_substring,right - left)"
   ]
  },
  {
   "cell_type": "code",
   "execution_count": 106,
   "id": "e8a55a20-6d3c-4c7e-9ef9-954116e59ba8",
   "metadata": {},
   "outputs": [
    {
     "data": {
      "text/plain": [
       "10"
      ]
     },
     "execution_count": 106,
     "metadata": {},
     "output_type": "execute_result"
    }
   ],
   "source": [
    "size_substring"
   ]
  },
  {
   "cell_type": "markdown",
   "id": "a7ace919-cf0d-45d4-be0a-ac4768bbaafd",
   "metadata": {},
   "source": [
    "Minimum size sub array sum - https://leetcode.com/problems/minimum-size-subarray-sum/description/"
   ]
  },
  {
   "cell_type": "code",
   "execution_count": 136,
   "id": "d075dcae-e2b7-42e9-8a23-bb3c4447c264",
   "metadata": {},
   "outputs": [],
   "source": [
    "target = 11\n",
    "nums = [1,1,1,1,1,1,1,1]"
   ]
  },
  {
   "cell_type": "code",
   "execution_count": 124,
   "id": "bc4be7b2-60b7-4626-8e8c-e6efad1b3ef5",
   "metadata": {},
   "outputs": [
    {
     "name": "stdout",
     "output_type": "stream",
     "text": [
      "1\n"
     ]
    }
   ],
   "source": [
    "left = 0\n",
    "right = 0\n",
    "sumVal = 0 \n",
    "# lenBlock = 0\n",
    "lenBlock = []\n",
    "while left<=right:\n",
    "    while right<len(nums):\n",
    "        sumVal = sum(nums[left:right+1])\n",
    "        if sumVal>=target:\n",
    "            # print(len(nums[left:right+1]))\n",
    "            # print(nums[left:right+1])\n",
    "            lenBlock.append(len(nums[left:right+1]))\n",
    "            # minValue = min(minValue,len(nums[left:right+1]))\n",
    "            break\n",
    "        right+=1\n",
    "    left+=1\n",
    "print(min(lenBlock))\n",
    "\n"
   ]
  },
  {
   "cell_type": "code",
   "execution_count": 137,
   "id": "e52ee9f2-86d3-47b4-84cd-6fdfac6ebd7a",
   "metadata": {},
   "outputs": [],
   "source": [
    "def MinArray(target,nums):\n",
    "    left = 0\n",
    "    right = 0\n",
    "    sumVal = 0\n",
    "\n",
    "    lenBlock = []\n",
    "\n",
    "    while left<=right:\n",
    "        while right<len(nums):\n",
    "            sumVal = sum(nums[left:right+1])\n",
    "            if sumVal>=target:\n",
    "                lenBlock.append(len(nums[left:right+1]))\n",
    "                break\n",
    "            right+=1\n",
    "        left+=1\n",
    "\n",
    "    if lenBlock:\n",
    "        return min(lenBlock)\n",
    "    else:\n",
    "        return 0     "
   ]
  },
  {
   "cell_type": "code",
   "execution_count": 138,
   "id": "2ba632ef-6b2a-4fe3-8d49-1bb6c3a78081",
   "metadata": {},
   "outputs": [],
   "source": [
    "val = MinArray(target,nums)"
   ]
  },
  {
   "cell_type": "code",
   "execution_count": 139,
   "id": "073263b4-5552-4fb8-b774-58aae5b9a57a",
   "metadata": {},
   "outputs": [
    {
     "data": {
      "text/plain": [
       "0"
      ]
     },
     "execution_count": 139,
     "metadata": {},
     "output_type": "execute_result"
    }
   ],
   "source": [
    "val"
   ]
  },
  {
   "cell_type": "code",
   "execution_count": null,
   "id": "284f47f0-82d6-4888-a177-1f4aecf244a8",
   "metadata": {},
   "outputs": [],
   "source": []
  }
 ],
 "metadata": {
  "kernelspec": {
   "display_name": "Python 3 (ipykernel)",
   "language": "python",
   "name": "python3"
  },
  "language_info": {
   "codemirror_mode": {
    "name": "ipython",
    "version": 3
   },
   "file_extension": ".py",
   "mimetype": "text/x-python",
   "name": "python",
   "nbconvert_exporter": "python",
   "pygments_lexer": "ipython3",
   "version": "3.12.4"
  }
 },
 "nbformat": 4,
 "nbformat_minor": 5
}
