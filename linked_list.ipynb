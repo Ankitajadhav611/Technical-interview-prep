{
 "cells": [
  {
   "cell_type": "markdown",
   "id": "955bd910-3507-4bc7-bba5-c7260e5b1730",
   "metadata": {},
   "source": [
    "Remove duplicated from sorted list - https://leetcode.com/problems/remove-duplicates-from-sorted-list/description/"
   ]
  },
  {
   "cell_type": "code",
   "execution_count": 1,
   "id": "ae75afd9-887d-42c4-be41-b0e573ce4b91",
   "metadata": {},
   "outputs": [],
   "source": [
    "class ListNode:\n",
    "    def __init__(self, val=0, next=None):\n",
    "        self.val = val\n",
    "        self.next = next"
   ]
  },
  {
   "cell_type": "code",
   "execution_count": 3,
   "id": "f67d5293-aef5-4dc3-90ef-f2464ddee9a5",
   "metadata": {},
   "outputs": [],
   "source": [
    "head = ListNode(1)\n",
    "A = ListNode(1)\n",
    "B = ListNode(2)\n",
    "C = ListNode(3)"
   ]
  },
  {
   "cell_type": "code",
   "execution_count": 4,
   "id": "a082bf5f-f7e8-4e23-bb08-5f380017478c",
   "metadata": {},
   "outputs": [],
   "source": [
    "head.next = A\n",
    "A.next = B\n",
    "B.next = C"
   ]
  },
  {
   "cell_type": "code",
   "execution_count": 12,
   "id": "ff3084bc-f20b-44f3-ba86-66ff4b127fc3",
   "metadata": {},
   "outputs": [
    {
     "name": "stdout",
     "output_type": "stream",
     "text": [
      "1\n",
      "1\n",
      "2\n",
      "3\n"
     ]
    }
   ],
   "source": [
    "# Traverse the list - O(n)\n",
    "curr = head\n",
    "\n",
    "while curr:\n",
    "  print(curr.val)\n",
    "  curr = curr.next"
   ]
  },
  {
   "cell_type": "code",
   "execution_count": null,
   "id": "9855a5c5-9be2-4ce6-b646-6fe77300597c",
   "metadata": {},
   "outputs": [],
   "source": [
    "        cur = head\n",
    "        while cur:\n",
    "            while cur.next and cur.next.val == cur.val:\n",
    "                cur.next = cur.next.next\n",
    "            cur = cur.next\n",
    "        return head"
   ]
  },
  {
   "cell_type": "code",
   "execution_count": 15,
   "id": "818a07f8-f217-4846-9a58-a7d187bfa289",
   "metadata": {},
   "outputs": [],
   "source": [
    "def deleteDuplicates(head):\n",
    "    if head is None:\n",
    "        return None\n",
    "    curr = head \n",
    "    while curr:\n",
    "        while curr.next and curr.next.val ==curr.val:\n",
    "            curr.next = curr.next.next\n",
    "        curr = curr.next\n",
    "    return head\n",
    "        \n",
    "\n",
    "            \n",
    "    \n"
   ]
  },
  {
   "cell_type": "code",
   "execution_count": 16,
   "id": "ab5c0052-2455-4368-94bb-5a3a2a1b4852",
   "metadata": {},
   "outputs": [],
   "source": [
    "newHead = deleteDuplicates(head)"
   ]
  },
  {
   "cell_type": "code",
   "execution_count": 17,
   "id": "204afa2e-dc63-43d5-b11d-43f3b06b2499",
   "metadata": {},
   "outputs": [
    {
     "name": "stdout",
     "output_type": "stream",
     "text": [
      "1\n",
      "2\n",
      "3\n"
     ]
    }
   ],
   "source": [
    "curr = newHead\n",
    "\n",
    "while curr:\n",
    "  print(curr.val)\n",
    "  curr = curr.next"
   ]
  },
  {
   "cell_type": "markdown",
   "id": "47a9a0dd-10f8-43cb-9e10-bb284d5113d8",
   "metadata": {},
   "source": [
    "Reverse linked list - https://leetcode.com/problems/reverse-linked-list/description/"
   ]
  },
  {
   "cell_type": "code",
   "execution_count": 4,
   "id": "648925d0-e460-4e66-8b27-e682ecadd5ec",
   "metadata": {},
   "outputs": [],
   "source": [
    "class ListNode:\n",
    "    def __init__(self, val=0, next=None):\n",
    "        self.val = val\n",
    "        self.next = next"
   ]
  },
  {
   "cell_type": "code",
   "execution_count": 89,
   "id": "216d811f-094b-4aac-8678-a671851bb5b3",
   "metadata": {},
   "outputs": [],
   "source": [
    "head = ListNode(1)\n",
    "A = ListNode(2)\n",
    "B = ListNode(3)\n",
    "C = ListNode(4)"
   ]
  },
  {
   "cell_type": "code",
   "execution_count": 90,
   "id": "7fbbb87d-98ea-43b7-8187-52ecb843d7d8",
   "metadata": {},
   "outputs": [],
   "source": [
    "head.next = A\n",
    "A.next = B\n",
    "B.next = C"
   ]
  },
  {
   "cell_type": "code",
   "execution_count": 91,
   "id": "84433ff1-855b-4175-8068-d37fc0ddcb19",
   "metadata": {},
   "outputs": [
    {
     "name": "stdout",
     "output_type": "stream",
     "text": [
      "1\n",
      "2\n",
      "3\n",
      "4\n"
     ]
    }
   ],
   "source": [
    "# Traverse the list - O(n)\n",
    "curr = head\n",
    "\n",
    "while curr:\n",
    "  print(curr.val)\n",
    "  curr = curr.next"
   ]
  },
  {
   "cell_type": "code",
   "execution_count": 61,
   "id": "3548addb-c660-41d2-8764-a49c209000e1",
   "metadata": {},
   "outputs": [],
   "source": [
    "def reverseList(head):\n",
    "    if head is None:\n",
    "            return None\n",
    "        \n",
    "    curr = head\n",
    "    temp = []\n",
    "    while curr:\n",
    "        temp.append(curr.val)\n",
    "        curr = curr.next\n",
    "        # print(temp)\n",
    "    reverseHead = ListNode(temp.pop())\n",
    "    reverseCurr = ListNode(temp.pop())\n",
    "    reverseHead.next = reverseCurr\n",
    "    nextValue = reverseHead.next\n",
    "    while temp:\n",
    "        reverseCurrNew = ListNode(temp.pop())\n",
    "        nextValue.next = reverseCurrNew\n",
    "        nextValue = nextValue.next\n",
    "    currnew = reverseHead\n",
    "    return reverseHead\n"
   ]
  },
  {
   "cell_type": "code",
   "execution_count": 62,
   "id": "7aeb4cb2-cb40-45bf-b0ab-1b7096ec8cdb",
   "metadata": {},
   "outputs": [],
   "source": [
    "newList = reverseList(head)"
   ]
  },
  {
   "cell_type": "code",
   "execution_count": 63,
   "id": "26b7b3c9-e34d-4586-8015-b37d74d3af31",
   "metadata": {},
   "outputs": [
    {
     "name": "stdout",
     "output_type": "stream",
     "text": [
      "4\n",
      "3\n",
      "2\n",
      "1\n"
     ]
    }
   ],
   "source": [
    "currn = newList\n",
    "\n",
    "while currn:\n",
    "  print(currn.val)\n",
    "  currn = currn.next"
   ]
  },
  {
   "cell_type": "markdown",
   "id": "0e03568c-6efd-4f8d-b2fb-154de6601245",
   "metadata": {},
   "source": [
    "above is runtime error"
   ]
  },
  {
   "cell_type": "code",
   "execution_count": 93,
   "id": "0a070039-f22c-4fa6-a310-d8826b0f2f76",
   "metadata": {},
   "outputs": [],
   "source": [
    "def reverseList(head):\n",
    "    newList = None\n",
    "    current = head\n",
    "\n",
    "    while current:\n",
    "        new_node = current.next\n",
    "        current.next = newList\n",
    "        newList = current\n",
    "        # print(newList.val)\n",
    "        current = new_node\n",
    "        # print(current.val)\n",
    "    currn = newList\n",
    "    while currn:\n",
    "      print(currn.val)\n",
    "      currn = currn.next\n",
    "    \n",
    "    \n"
   ]
  },
  {
   "cell_type": "code",
   "execution_count": 94,
   "id": "74df1182-fd44-4569-b6c8-c485ba162b30",
   "metadata": {},
   "outputs": [
    {
     "name": "stdout",
     "output_type": "stream",
     "text": [
      "1\n"
     ]
    }
   ],
   "source": [
    "reverseList(head)"
   ]
  },
  {
   "cell_type": "code",
   "execution_count": 88,
   "id": "16e634bc-ee1f-449a-b129-fa0abaeacf39",
   "metadata": {},
   "outputs": [],
   "source": [
    "currn = newList\n",
    "while currn:\n",
    "  print(currn.val)\n",
    "  currn = currn.next"
   ]
  },
  {
   "cell_type": "markdown",
   "id": "a946f815-e4a9-4ca3-9975-9f02a3ca668b",
   "metadata": {},
   "source": [
    "Merge Two Sorted Lists - https://leetcode.com/problems/merge-two-sorted-lists/description/"
   ]
  },
  {
   "cell_type": "code",
   "execution_count": 95,
   "id": "2a402b90-5d76-44b4-bbd8-b05273848020",
   "metadata": {},
   "outputs": [],
   "source": [
    "class ListNode:\n",
    "    def __init__(self, val=0, next=None):\n",
    "        self.val = val\n",
    "        self.next = next"
   ]
  },
  {
   "cell_type": "code",
   "execution_count": 97,
   "id": "a2960292-8818-4b54-a641-0aa2cb61b9a7",
   "metadata": {},
   "outputs": [],
   "source": [
    "class Solution:\n",
    "    def mergeTwoLists(self, list1, list2):\n",
    "        dummy = ListNode()\n",
    "        cur = dummy\n",
    "\n",
    "        while list1 and list2:\n",
    "            if list1.val>list2.val:\n",
    "                cur.next = list2\n",
    "                list2 = list2.next\n",
    "            else:\n",
    "                cur.next = list1\n",
    "                list1 = list1.next\n",
    "\n",
    "            cur = cur.next\n",
    "\n",
    "        if list1:\n",
    "            cur.next = list1\n",
    "        else:\n",
    "            cur.next = list2\n",
    "    \n",
    "        return dummy.next"
   ]
  },
  {
   "cell_type": "code",
   "execution_count": null,
   "id": "d82cd7f5-b833-441b-b1eb-36fd91d3eb19",
   "metadata": {},
   "outputs": [],
   "source": []
  }
 ],
 "metadata": {
  "kernelspec": {
   "display_name": "Python 3 (ipykernel)",
   "language": "python",
   "name": "python3"
  },
  "language_info": {
   "codemirror_mode": {
    "name": "ipython",
    "version": 3
   },
   "file_extension": ".py",
   "mimetype": "text/x-python",
   "name": "python",
   "nbconvert_exporter": "python",
   "pygments_lexer": "ipython3",
   "version": "3.12.4"
  }
 },
 "nbformat": 4,
 "nbformat_minor": 5
}
